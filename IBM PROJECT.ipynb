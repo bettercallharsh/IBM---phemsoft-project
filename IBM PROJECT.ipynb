{
 "cells": [
  {
   "cell_type": "code",
   "execution_count": 1,
   "id": "47b830c8-d9c3-4710-a91b-2f6107ee1f28",
   "metadata": {},
   "outputs": [
    {
     "name": "stdout",
     "output_type": "stream",
     "text": [
      "   EquipmentID                   Timestamp  Temperature   Pressure  Vibration  \\\n",
      "0            5  2024-01-12 22:34:33.880725    70.750382  73.210785   2.814068   \n",
      "1            8  2024-03-01 22:34:33.880725   138.128078  76.860154   4.005306   \n",
      "2           10  2021-12-28 22:34:33.880725   121.235433  67.256710   2.319925   \n",
      "3            9  2023-01-08 22:34:33.880725   148.220108  73.513267   2.484427   \n",
      "4            6  2021-10-10 22:34:33.880725    69.592306  73.819571   0.739983   \n",
      "\n",
      "   MaintenanceHours  Failure  \n",
      "0        426.073406        0  \n",
      "1       1407.286281        0  \n",
      "2       1383.074498        0  \n",
      "3          5.317395        0  \n",
      "4       1714.716987        0  \n",
      "<class 'pandas.core.frame.DataFrame'>\n",
      "RangeIndex: 1000 entries, 0 to 999\n",
      "Data columns (total 7 columns):\n",
      " #   Column            Non-Null Count  Dtype  \n",
      "---  ------            --------------  -----  \n",
      " 0   EquipmentID       1000 non-null   int64  \n",
      " 1   Timestamp         1000 non-null   object \n",
      " 2   Temperature       1000 non-null   float64\n",
      " 3   Pressure          1000 non-null   float64\n",
      " 4   Vibration         1000 non-null   float64\n",
      " 5   MaintenanceHours  1000 non-null   float64\n",
      " 6   Failure           1000 non-null   int64  \n",
      "dtypes: float64(4), int64(2), object(1)\n",
      "memory usage: 54.8+ KB\n",
      "None\n",
      "       EquipmentID  Temperature     Pressure    Vibration  MaintenanceHours  \\\n",
      "count  1000.000000  1000.000000  1000.000000  1000.000000       1000.000000   \n",
      "mean      5.444000    99.889002    75.110079     2.748513        984.119718   \n",
      "std       2.859203    29.098296    14.379335     1.295877        588.237002   \n",
      "min       1.000000    50.017156    50.017945     0.503317          1.898968   \n",
      "25%       3.000000    74.020449    62.698533     1.657920        450.677634   \n",
      "50%       5.000000    99.688629    75.138998     2.736259        979.929635   \n",
      "75%       8.000000   125.633283    87.286311     3.846928       1498.519542   \n",
      "max      10.000000   149.974101    99.744827     4.999256       1999.971090   \n",
      "\n",
      "           Failure  \n",
      "count  1000.000000  \n",
      "mean      0.298000  \n",
      "std       0.457608  \n",
      "min       0.000000  \n",
      "25%       0.000000  \n",
      "50%       0.000000  \n",
      "75%       1.000000  \n",
      "max       1.000000  \n"
     ]
    }
   ],
   "source": [
    "import pandas as pd\n",
    "\n",
    "# Load the dataset\n",
    "df = pd.read_csv('synthetic_equipment_data.csv')\n",
    "\n",
    "# Display the first few rows of the dataset\n",
    "print(df.head())\n",
    "\n",
    "# Display dataset summary\n",
    "print(df.info())\n",
    "print(df.describe())\n"
   ]
  },
  {
   "cell_type": "code",
   "execution_count": 2,
   "id": "ff950d6b-373e-4c98-be9c-eb8b9935f818",
   "metadata": {},
   "outputs": [
    {
     "name": "stdout",
     "output_type": "stream",
     "text": [
      "EquipmentID         0\n",
      "Timestamp           0\n",
      "Temperature         0\n",
      "Pressure            0\n",
      "Vibration           0\n",
      "MaintenanceHours    0\n",
      "Failure             0\n",
      "dtype: int64\n"
     ]
    },
    {
     "name": "stderr",
     "output_type": "stream",
     "text": [
      "C:\\Users\\Harsh\\AppData\\Local\\Temp\\ipykernel_7496\\2465925525.py:5: FutureWarning: DataFrame.fillna with 'method' is deprecated and will raise in a future version. Use obj.ffill() or obj.bfill() instead.\n",
      "  df.fillna(method='ffill', inplace=True)\n"
     ]
    },
    {
     "name": "stdout",
     "output_type": "stream",
     "text": [
      "   Temperature  Pressure  Vibration  MaintenanceHours  Failure  EquipmentID_1  \\\n",
      "0    -1.001887 -0.132151   0.050612         -0.949151        0          False   \n",
      "1     1.314792  0.121769   0.970325          0.719741        0          False   \n",
      "2     0.733964 -0.546430  -0.330898          0.678561        0          False   \n",
      "3     1.661791 -0.111105  -0.203892         -1.664792        0          False   \n",
      "4    -1.041706 -0.089792  -1.550715          1.242633        0          False   \n",
      "\n",
      "   EquipmentID_2  EquipmentID_3  EquipmentID_4  EquipmentID_5  EquipmentID_6  \\\n",
      "0          False          False          False           True          False   \n",
      "1          False          False          False          False          False   \n",
      "2          False          False          False          False          False   \n",
      "3          False          False          False          False          False   \n",
      "4          False          False          False          False           True   \n",
      "\n",
      "   EquipmentID_7  EquipmentID_8  EquipmentID_9  EquipmentID_10  \n",
      "0          False          False          False           False  \n",
      "1          False           True          False           False  \n",
      "2          False          False          False            True  \n",
      "3          False          False           True           False  \n",
      "4          False          False          False           False  \n"
     ]
    }
   ],
   "source": [
    "# Check for missing values\n",
    "print(df.isnull().sum())\n",
    "\n",
    "# Handle missing values (if any)\n",
    "df.fillna(method='ffill', inplace=True)\n",
    "\n",
    "# Convert 'Timestamp' to datetime format\n",
    "df['Timestamp'] = pd.to_datetime(df['Timestamp'])\n",
    "\n",
    "# Drop 'Timestamp' if it's not needed for model training\n",
    "df = df.drop(columns=['Timestamp'])\n",
    "\n",
    "# Normalize numerical features\n",
    "from sklearn.preprocessing import StandardScaler\n",
    "\n",
    "scaler = StandardScaler()\n",
    "numerical_features = ['Temperature', 'Pressure', 'Vibration', 'MaintenanceHours']\n",
    "df[numerical_features] = scaler.fit_transform(df[numerical_features])\n",
    "\n",
    "# Encode categorical features (if any)\n",
    "df = pd.get_dummies(df, columns=['EquipmentID'])\n",
    "\n",
    "print(df.head())\n"
   ]
  },
  {
   "cell_type": "code",
   "execution_count": 3,
   "id": "76418716-a2a0-4a86-9da0-83eec48aecc0",
   "metadata": {},
   "outputs": [
    {
     "name": "stdout",
     "output_type": "stream",
     "text": [
      "(800, 14) (200, 14)\n"
     ]
    }
   ],
   "source": [
    "from sklearn.model_selection import train_test_split\n",
    "\n",
    "# Define features and target variable\n",
    "X = df.drop('Failure', axis=1)\n",
    "y = df['Failure']\n",
    "\n",
    "# Split the data\n",
    "X_train, X_test, y_train, y_test = train_test_split(X, y, test_size=0.2, random_state=42)\n",
    "\n",
    "print(X_train.shape, X_test.shape)\n"
   ]
  },
  {
   "cell_type": "code",
   "execution_count": 4,
   "id": "868bd86a-bdf9-40f3-9318-0e41cc125649",
   "metadata": {},
   "outputs": [
    {
     "name": "stdout",
     "output_type": "stream",
     "text": [
      "Accuracy: 0.705\n",
      "Confusion Matrix:\n",
      " [[141   0]\n",
      " [ 59   0]]\n",
      "Classification Report:\n",
      "               precision    recall  f1-score   support\n",
      "\n",
      "           0       0.70      1.00      0.83       141\n",
      "           1       0.00      0.00      0.00        59\n",
      "\n",
      "    accuracy                           0.70       200\n",
      "   macro avg       0.35      0.50      0.41       200\n",
      "weighted avg       0.50      0.70      0.58       200\n",
      "\n"
     ]
    },
    {
     "name": "stderr",
     "output_type": "stream",
     "text": [
      "C:\\Users\\Harsh\\AppData\\Local\\Programs\\Python\\Python312\\Lib\\site-packages\\sklearn\\metrics\\_classification.py:1509: UndefinedMetricWarning: Precision is ill-defined and being set to 0.0 in labels with no predicted samples. Use `zero_division` parameter to control this behavior.\n",
      "  _warn_prf(average, modifier, f\"{metric.capitalize()} is\", len(result))\n",
      "C:\\Users\\Harsh\\AppData\\Local\\Programs\\Python\\Python312\\Lib\\site-packages\\sklearn\\metrics\\_classification.py:1509: UndefinedMetricWarning: Precision is ill-defined and being set to 0.0 in labels with no predicted samples. Use `zero_division` parameter to control this behavior.\n",
      "  _warn_prf(average, modifier, f\"{metric.capitalize()} is\", len(result))\n",
      "C:\\Users\\Harsh\\AppData\\Local\\Programs\\Python\\Python312\\Lib\\site-packages\\sklearn\\metrics\\_classification.py:1509: UndefinedMetricWarning: Precision is ill-defined and being set to 0.0 in labels with no predicted samples. Use `zero_division` parameter to control this behavior.\n",
      "  _warn_prf(average, modifier, f\"{metric.capitalize()} is\", len(result))\n"
     ]
    }
   ],
   "source": [
    "from sklearn.linear_model import LogisticRegression\n",
    "from sklearn.metrics import accuracy_score, confusion_matrix, classification_report\n",
    "\n",
    "# Initialize and train the model\n",
    "model = LogisticRegression()\n",
    "model.fit(X_train, y_train)\n",
    "\n",
    "# Predict on the test set\n",
    "y_pred = model.predict(X_test)\n",
    "\n",
    "# Evaluate the model\n",
    "print(\"Accuracy:\", accuracy_score(y_test, y_pred))\n",
    "print(\"Confusion Matrix:\\n\", confusion_matrix(y_test, y_pred))\n",
    "print(\"Classification Report:\\n\", classification_report(y_test, y_pred))\n"
   ]
  },
  {
   "cell_type": "code",
   "execution_count": 5,
   "id": "e8f1827b-047e-40f2-83d1-52e6bf3e58f0",
   "metadata": {},
   "outputs": [
    {
     "data": {
      "image/png": "[encoded data removed]",
      "text/plain": [
       "<Figure size 640x480 with 2 Axes>"
      ]
     },
     "metadata": {},
     "output_type": "display_data"
    },
    {
     "data": {
      "image/png": "[encoded data removed]",
      "text/plain": [
       "<Figure size 640x480 with 1 Axes>"
      ]
     },
     "metadata": {},
     "output_type": "display_data"
    }
   ],
   "source": [
    "import matplotlib.pyplot as plt\n",
    "import seaborn as sns\n",
    "\n",
    "# Confusion matrix heatmap\n",
    "conf_matrix = confusion_matrix(y_test, y_pred)\n",
    "sns.heatmap(conf_matrix, annot=True, fmt='d')\n",
    "plt.xlabel('Predicted')\n",
    "plt.ylabel('Actual')\n",
    "plt.title('Confusion Matrix')\n",
    "plt.show()\n",
    "\n",
    "# ROC Curve\n",
    "from sklearn.metrics import roc_curve, roc_auc_score\n",
    "\n",
    "y_pred_prob = model.predict_proba(X_test)[:, 1]\n",
    "fpr, tpr, thresholds = roc_curve(y_test, y_pred_prob)\n",
    "roc_auc = roc_auc_score(y_test, y_pred_prob)\n",
    "\n",
    "plt.plot(fpr, tpr, label=f'Logistic Regression (AUC = {roc_auc:.2f})')\n",
    "plt.plot([0, 1], [0, 1], 'k--')\n",
    "plt.xlabel('False Positive Rate')\n",
    "plt.ylabel('True Positive Rate')\n",
    "plt.title('ROC Curve')\n",
    "plt.legend()\n",
    "plt.show()\n"
   ]
  },
  {
   "cell_type": "code",
   "execution_count": 6,
   "id": "be848f69-6c28-4b49-a81c-04951f48e735",
   "metadata": {},
   "outputs": [
    {
     "name": "stdout",
     "output_type": "stream",
     "text": [
      "Accuracy: 0.68\n",
      "Confusion Matrix:\n",
      " [[131  10]\n",
      " [ 54   5]]\n",
      "Classification Report:\n",
      "               precision    recall  f1-score   support\n",
      "\n",
      "           0       0.71      0.93      0.80       141\n",
      "           1       0.33      0.08      0.14        59\n",
      "\n",
      "    accuracy                           0.68       200\n",
      "   macro avg       0.52      0.51      0.47       200\n",
      "weighted avg       0.60      0.68      0.61       200\n",
      "\n"
     ]
    }
   ],
   "source": [
    "from sklearn.ensemble import RandomForestClassifier\n",
    "\n",
    "# Initialize and train the model\n",
    "rf_model = RandomForestClassifier(random_state=42)\n",
    "rf_model.fit(X_train, y_train)\n",
    "\n",
    "# Predict on the test set\n",
    "y_pred_rf = rf_model.predict(X_test)\n",
    "\n",
    "# Evaluate the model\n",
    "print(\"Accuracy:\", accuracy_score(y_test, y_pred_rf))\n",
    "print(\"Confusion Matrix:\\n\", confusion_matrix(y_test, y_pred_rf))\n",
    "print(\"Classification Report:\\n\", classification_report(y_test, y_pred_rf))\n"
   ]
  },
  {
   "cell_type": "code",
   "execution_count": 7,
   "id": "0a92adb7-adfe-4256-a707-6064670c4fcb",
   "metadata": {},
   "outputs": [
    {
     "name": "stdout",
     "output_type": "stream",
     "text": [
      "   Temperature  Pressure  Vibration  MaintenanceHours  Failure  EquipmentID_1  \\\n",
      "0    -1.001887 -0.132151   0.050612         -0.949151        0          False   \n",
      "1     1.314792  0.121769   0.970325          0.719741        0          False   \n",
      "2     0.733964 -0.546430  -0.330898          0.678561        0          False   \n",
      "3     1.661791 -0.111105  -0.203892         -1.664792        0          False   \n",
      "4    -1.041706 -0.089792  -1.550715          1.242633        0          False   \n",
      "\n",
      "   EquipmentID_2  EquipmentID_3  EquipmentID_4  EquipmentID_5  EquipmentID_6  \\\n",
      "0          False          False          False           True          False   \n",
      "1          False          False          False          False          False   \n",
      "2          False          False          False          False          False   \n",
      "3          False          False          False          False          False   \n",
      "4          False          False          False          False           True   \n",
      "\n",
      "   EquipmentID_7  EquipmentID_8  EquipmentID_9  EquipmentID_10  \n",
      "0          False          False          False           False  \n",
      "1          False           True          False           False  \n",
      "2          False          False          False            True  \n",
      "3          False          False           True           False  \n",
      "4          False          False          False           False  \n",
      "Accuracy: 0.705\n",
      "Confusion Matrix:\n",
      " [[141   0]\n",
      " [ 59   0]]\n",
      "Classification Report:\n",
      "               precision    recall  f1-score   support\n",
      "\n",
      "           0       0.70      1.00      0.83       141\n",
      "           1       0.00      0.00      0.00        59\n",
      "\n",
      "    accuracy                           0.70       200\n",
      "   macro avg       0.35      0.50      0.41       200\n",
      "weighted avg       0.50      0.70      0.58       200\n",
      "\n"
     ]
    },
    {
     "name": "stderr",
     "output_type": "stream",
     "text": [
      "C:\\Users\\Harsh\\AppData\\Local\\Programs\\Python\\Python312\\Lib\\site-packages\\sklearn\\metrics\\_classification.py:1509: UndefinedMetricWarning: Precision is ill-defined and being set to 0.0 in labels with no predicted samples. Use `zero_division` parameter to control this behavior.\n",
      "  _warn_prf(average, modifier, f\"{metric.capitalize()} is\", len(result))\n",
      "C:\\Users\\Harsh\\AppData\\Local\\Programs\\Python\\Python312\\Lib\\site-packages\\sklearn\\metrics\\_classification.py:1509: UndefinedMetricWarning: Precision is ill-defined and being set to 0.0 in labels with no predicted samples. Use `zero_division` parameter to control this behavior.\n",
      "  _warn_prf(average, modifier, f\"{metric.capitalize()} is\", len(result))\n",
      "C:\\Users\\Harsh\\AppData\\Local\\Programs\\Python\\Python312\\Lib\\site-packages\\sklearn\\metrics\\_classification.py:1509: UndefinedMetricWarning: Precision is ill-defined and being set to 0.0 in labels with no predicted samples. Use `zero_division` parameter to control this behavior.\n",
      "  _warn_prf(average, modifier, f\"{metric.capitalize()} is\", len(result))\n"
     ]
    }
   ],
   "source": [
    "# Example output after preprocessing\n",
    "print(df.head())\n",
    "\n",
    "# Example model evaluation output\n",
    "print(\"Accuracy:\", accuracy_score(y_test, y_pred))\n",
    "print(\"Confusion Matrix:\\n\", confusion_matrix(y_test, y_pred))\n",
    "print(\"Classification Report:\\n\", classification_report(y_test, y_pred))\n"
   ]
  },
  {
   "cell_type": "code",
   "execution_count": 9,
   "id": "66cd633b-7e84-4b7b-9c17-083b679f5ec5",
   "metadata": {},
   "outputs": [
    {
     "data": {
      "text/plain": [
       "['predictive_maintenance_model.pkl']"
      ]
     },
     "execution_count": 9,
     "metadata": {},
     "output_type": "execute_result"
    }
   ],
   "source": [
    "import joblib\n",
    "from sklearn.linear_model import LogisticRegression\n",
    "from sklearn.model_selection import train_test_split\n",
    "from sklearn.datasets import make_classification\n",
    "\n",
    "# Generate a synthetic dataset for demonstration\n",
    "X, y = make_classification(n_samples=1000, n_features=10, random_state=42)\n",
    "X_train, X_test, y_train, y_test = train_test_split(X, y, test_size=0.2, random_state=42)\n",
    "\n",
    "# Train the model\n",
    "model = LogisticRegression()\n",
    "model.fit(X_train, y_train)\n",
    "\n",
    "# Save the model\n",
    "joblib.dump(model, 'predictive_maintenance_model.pkl')\n"
   ]
  },
  {
   "cell_type": "code",
   "execution_count": null,
   "id": "baf10190-3545-4489-a821-7fab4a1b3942",
   "metadata": {},
   "outputs": [],
   "source": []
  }
 ],
 "metadata": {
  "kernelspec": {
   "display_name": "Python 3 (ipykernel)",
   "language": "python",
   "name": "python3"
  },
  "language_info": {
   "codemirror_mode": {
    "name": "ipython",
    "version": 3
   },
   "file_extension": ".py",
   "mimetype": "text/x-python",
   "name": "python",
   "nbconvert_exporter": "python",
   "pygments_lexer": "ipython3",
   "version": "3.12.1"
  }
 },
 "nbformat": 4,
 "nbformat_minor": 5
}
